{
 "cells": [
  {
   "cell_type": "markdown",
   "metadata": {},
   "source": [
    "# Modelo causal y generación de datos\n",
    "\n",
    "$$\n",
    "\\begin{align}\n",
    "Z &\\leftarrow X \\rightarrow Y \\\\\n",
    "Z &\\rightarrow Y\n",
    "\\end{align}\n",
    "$$"
   ]
  },
  {
   "cell_type": "markdown",
   "metadata": {},
   "source": [
    "## DAG"
   ]
  },
  {
   "cell_type": "code",
   "execution_count": null,
   "metadata": {},
   "outputs": [
    {
     "data": {
      "image/png": "[encoded data removed]",
      "text/plain": [
       "<Figure size 800x600 with 1 Axes>"
      ]
     },
     "metadata": {},
     "output_type": "display_data"
    }
   ],
   "source": [
    "import networkx as nx\n",
    "\n",
    "import matplotlib.pyplot as plt\n",
    "\n",
    "# Crear un nuevo grafo\n",
    "G = nx.DiGraph()\n",
    "\n",
    "# Añadir nodos\n",
    "G.add_node('X')\n",
    "G.add_node('Y')\n",
    "G.add_node('Z')\n",
    "\n",
    "# Añadir aristas (edges) con pesos\n",
    "G.add_edge('X', 'Y')\n",
    "G.add_edge('X', 'Z')\n",
    "G.add_edge('Z', 'Y')\n",
    "\n",
    "# Añadir etiquetas a los nodos\n",
    "labels = {\n",
    "    'X': r'$X$',\n",
    "    'Y': r'$Y$',\n",
    "    'Z': r'$Z$'\n",
    "}\n",
    "\n",
    "# Crear una figura y un eje\n",
    "fig, ax = plt.subplots(figsize=(8, 6))\n",
    "# Dibujar el grafo\n",
    "pos = {\n",
    "    \"X\": (0, 0),\n",
    "    \"Z\": (1, 1),\n",
    "    \"Y\": (2, 0)\n",
    "}\n",
    "\n",
    "# positions for all nodes\n",
    "nx.draw_networkx_nodes(G, pos,\n",
    "    node_color='lightblue',\n",
    "    node_size=2000,\n",
    "    edgecolors='black'\n",
    ")\n",
    "\n",
    "nx.draw_networkx_edges(G, pos,\n",
    "    arrows=True,\n",
    "    arrowstyle='-|>',\n",
    "    arrowsize=25,\n",
    "    width=2,\n",
    "    edge_color='gray',\n",
    "    min_source_margin=30,     \n",
    "    min_target_margin=30\n",
    "    )\n",
    "\n",
    "nx.draw_networkx_labels(G, pos, labels, font_size=20)\n",
    "\n",
    "# Mostrar el grafo\n",
    "plt.title('Directed Graph Representation of the Model')\n",
    "plt.axis('off')  # Turn off the axis\n",
    "plt.show()"
   ]
  },
  {
   "cell_type": "markdown",
   "metadata": {},
   "source": [
    "## Ecuaciones estructurales\n",
    "\n",
    "$$\n",
    "\\begin{align}\n",
    "Y &= \\beta_0 + \\beta_1 X + \\beta_2 Z + \\epsilon_Y \\\\\n",
    "Z &= \\alpha_0 + \\alpha_1 X  + \\epsilon_Z\n",
    "\\end{align}\n",
    "$$\n",
    "\n",
    "Luego:\n",
    "\n",
    "$$\n",
    "\\begin{align}\n",
    "Y &= \\beta_0 + \\beta_1 X + \\beta_2 (\\alpha_0 + \\alpha_1 X + \\epsilon_Z) + \\epsilon_Y \\\\\n",
    "&= \\beta_0 + \\beta_2 \\alpha_0 + (\\beta_1 + \\beta_2 \\alpha_1) X + (\\beta_2 \\epsilon_Z + \\epsilon_Y)\n",
    "\\end{align}\n",
    "$$\n"
   ]
  },
  {
   "cell_type": "markdown",
   "metadata": {},
   "source": [
    "+ El efecto **total de $X$ sobre $Y$** es $\\beta_1 + \\beta_2 \\alpha_1$.\n",
    "+ El efecto **directo de $X$ sobre $Y$** es $\\beta_1$ y el efecto indirecto es $\\beta_2 \\alpha_1$.\n",
    "+ El efecto **indirecto de $X$ sobre $Y$** es el efecto de $X$ sobre $Y$ a través de $Z$ (el total menos el directo).\n",
    "+ El efecto **total de $Z$ sobre $Y$** coincide con su efecto **directo** y es $\\beta_2$. \n",
    "+ $Z$ no tiene efecto **indirecto** sobre $Y$."
   ]
  },
  {
   "cell_type": "markdown",
   "metadata": {},
   "source": [
    "## Generación de datos\n"
   ]
  },
  {
   "cell_type": "code",
   "execution_count": 21,
   "metadata": {},
   "outputs": [
    {
     "data": {
      "text/html": [
       "<div>\n",
       "<style scoped>\n",
       "    .dataframe tbody tr th:only-of-type {\n",
       "        vertical-align: middle;\n",
       "    }\n",
       "\n",
       "    .dataframe tbody tr th {\n",
       "        vertical-align: top;\n",
       "    }\n",
       "\n",
       "    .dataframe thead th {\n",
       "        text-align: right;\n",
       "    }\n",
       "</style>\n",
       "<table border=\"1\" class=\"dataframe\">\n",
       "  <thead>\n",
       "    <tr style=\"text-align: right;\">\n",
       "      <th></th>\n",
       "      <th>X</th>\n",
       "      <th>Y</th>\n",
       "      <th>Z</th>\n",
       "    </tr>\n",
       "  </thead>\n",
       "  <tbody>\n",
       "    <tr>\n",
       "      <th>0</th>\n",
       "      <td>0.496714</td>\n",
       "      <td>9.696891</td>\n",
       "      <td>-0.201496</td>\n",
       "    </tr>\n",
       "    <tr>\n",
       "      <th>1</th>\n",
       "      <td>-0.138264</td>\n",
       "      <td>-30.562645</td>\n",
       "      <td>-4.273350</td>\n",
       "    </tr>\n",
       "    <tr>\n",
       "      <th>2</th>\n",
       "      <td>0.647689</td>\n",
       "      <td>19.327252</td>\n",
       "      <td>0.936439</td>\n",
       "    </tr>\n",
       "    <tr>\n",
       "      <th>3</th>\n",
       "      <td>1.523030</td>\n",
       "      <td>86.028959</td>\n",
       "      <td>7.771627</td>\n",
       "    </tr>\n",
       "    <tr>\n",
       "      <th>4</th>\n",
       "      <td>-0.234153</td>\n",
       "      <td>-26.835084</td>\n",
       "      <td>-3.441895</td>\n",
       "    </tr>\n",
       "  </tbody>\n",
       "</table>\n",
       "</div>"
      ],
      "text/plain": [
       "          X          Y         Z\n",
       "0  0.496714   9.696891 -0.201496\n",
       "1 -0.138264 -30.562645 -4.273350\n",
       "2  0.647689  19.327252  0.936439\n",
       "3  1.523030  86.028959  7.771627\n",
       "4 -0.234153 -26.835084 -3.441895"
      ]
     },
     "execution_count": 21,
     "metadata": {},
     "output_type": "execute_result"
    }
   ],
   "source": [
    "beta_0 = 5\n",
    "beta_1 = 12\n",
    "beta_2 = 8\n",
    "sigma_y = 1\n",
    "\n",
    "alpha_0 = -3\n",
    "alpha_1 = 7\n",
    "sigma_z = 1\n",
    "\n",
    "N = 10000\n",
    "# Generate random data\n",
    "import numpy as np\n",
    "np.random.seed(42)\n",
    "X = np.random.normal(0, 1, N)\n",
    "Z = alpha_0 + alpha_1 * X + np.random.normal(0, sigma_z, N)\n",
    "Y = beta_0 + beta_1 * X + + beta_2 * Z + np.random.normal(0, sigma_y, N)\n",
    "\n",
    "# Create a DataFrame\n",
    "import pandas as pd\n",
    "data = pd.DataFrame({'X': X, 'Y': Y, 'Z': Z})\n",
    "\n",
    "data.head()"
   ]
  },
  {
   "cell_type": "markdown",
   "metadata": {},
   "source": [
    "Con los valorea que se generan los datos:"
   ]
  },
  {
   "cell_type": "code",
   "execution_count": 19,
   "metadata": {},
   "outputs": [
    {
     "name": "stdout",
     "output_type": "stream",
     "text": [
      "Efecto total de X sobre Y: 68.00\n",
      "Efecto directo de X sobre Y: 12.00\n",
      "Efecto indirecto de X sobre Y: 56.00\n",
      "Efecto total de Z sobre Y: 8.00\n",
      "Efecto directo de Z sobre Y: 8.00\n",
      "Efecto indirecto de Z sobre Y: 0.00\n"
     ]
    }
   ],
   "source": [
    "efecto_total_X_Y = beta_1 + beta_2*alpha_1\n",
    "efecto_directo_X_Y = beta_1\n",
    "efecto_indirecto_X_Y = beta_2*alpha_1\n",
    "efecto_total_Z_Y = efecto_directo_Z_Y = beta_2\n",
    "efecto_indirefcto_Z_Y = 0\n",
    "\n",
    "print(f\"Efecto total de X sobre Y: {efecto_total_X_Y:.2f}\")\n",
    "print(f\"Efecto directo de X sobre Y: {efecto_directo_X_Y:.2f}\")\n",
    "print(f\"Efecto indirecto de X sobre Y: {efecto_indirecto_X_Y:.2f}\")\n",
    "print(f\"Efecto total de Z sobre Y: {efecto_total_Z_Y:.2f}\")\n",
    "print(f\"Efecto directo de Z sobre Y: {efecto_directo_Z_Y:.2f}\")\n",
    "print(f\"Efecto indirecto de Z sobre Y: {efecto_indirefcto_Z_Y:.2f}\")"
   ]
  },
  {
   "cell_type": "code",
   "execution_count": 9,
   "metadata": {},
   "outputs": [
    {
     "data": {
      "text/html": [
       "<div>\n",
       "<style scoped>\n",
       "    .dataframe tbody tr th:only-of-type {\n",
       "        vertical-align: middle;\n",
       "    }\n",
       "\n",
       "    .dataframe tbody tr th {\n",
       "        vertical-align: top;\n",
       "    }\n",
       "\n",
       "    .dataframe thead th {\n",
       "        text-align: right;\n",
       "    }\n",
       "</style>\n",
       "<table border=\"1\" class=\"dataframe\">\n",
       "  <thead>\n",
       "    <tr style=\"text-align: right;\">\n",
       "      <th></th>\n",
       "      <th>X</th>\n",
       "      <th>Y</th>\n",
       "      <th>Z</th>\n",
       "    </tr>\n",
       "  </thead>\n",
       "  <tbody>\n",
       "    <tr>\n",
       "      <th>X</th>\n",
       "      <td>1.000000</td>\n",
       "      <td>0.918176</td>\n",
       "      <td>0.870060</td>\n",
       "    </tr>\n",
       "    <tr>\n",
       "      <th>Y</th>\n",
       "      <td>0.918176</td>\n",
       "      <td>1.000000</td>\n",
       "      <td>0.796853</td>\n",
       "    </tr>\n",
       "    <tr>\n",
       "      <th>Z</th>\n",
       "      <td>0.870060</td>\n",
       "      <td>0.796853</td>\n",
       "      <td>1.000000</td>\n",
       "    </tr>\n",
       "  </tbody>\n",
       "</table>\n",
       "</div>"
      ],
      "text/plain": [
       "          X         Y         Z\n",
       "X  1.000000  0.918176  0.870060\n",
       "Y  0.918176  1.000000  0.796853\n",
       "Z  0.870060  0.796853  1.000000"
      ]
     },
     "execution_count": 9,
     "metadata": {},
     "output_type": "execute_result"
    }
   ],
   "source": [
    "data.corr()"
   ]
  },
  {
   "cell_type": "markdown",
   "metadata": {},
   "source": [
    "# Estimaciones"
   ]
  },
  {
   "cell_type": "markdown",
   "metadata": {},
   "source": [
    "## Efecto total de $X$ sobre $Y$\n",
    "\n",
    "A la vista del gráfico y por backdoor criterion, no tenemos que condicionar por / ajustar / controlar por $Z$ porque cerrariamos el camino $X \\rightarrow Z \\rightarrow Y$ y perderíamos el efecto indirecto de $X$ sobre $Y$ a través de $Z$. Por lo tanto, la estimación del efecto total de $X$ sobre $Y$ es:\n",
    "\n",
    "$$\n",
    "Y \\sim X\n",
    "$$"
   ]
  },
  {
   "cell_type": "code",
   "execution_count": 22,
   "metadata": {},
   "outputs": [
    {
     "name": "stdout",
     "output_type": "stream",
     "text": [
      "                            OLS Regression Results                            \n",
      "==============================================================================\n",
      "Dep. Variable:                      Y   R-squared:                       0.986\n",
      "Model:                            OLS   Adj. R-squared:                  0.986\n",
      "Method:                 Least Squares   F-statistic:                 7.094e+05\n",
      "Date:                Wed, 19 Mar 2025   Prob (F-statistic):               0.00\n",
      "Time:                        12:37:54   Log-Likelihood:                -35102.\n",
      "No. Observations:               10000   AIC:                         7.021e+04\n",
      "Df Residuals:                    9998   BIC:                         7.022e+04\n",
      "Df Model:                           1                                         \n",
      "Covariance Type:            nonrobust                                         \n",
      "==============================================================================\n",
      "                 coef    std err          t      P>|t|      [0.025      0.975]\n",
      "------------------------------------------------------------------------------\n",
      "Intercept    -18.9043      0.081   -233.505      0.000     -19.063     -18.746\n",
      "X             67.9581      0.081    842.284      0.000      67.800      68.116\n",
      "==============================================================================\n",
      "Omnibus:                        2.361   Durbin-Watson:                   2.010\n",
      "Prob(Omnibus):                  0.307   Jarque-Bera (JB):                2.417\n",
      "Skew:                          -0.001   Prob(JB):                        0.299\n",
      "Kurtosis:                       3.076   Cond. No.                         1.00\n",
      "==============================================================================\n",
      "\n",
      "Notes:\n",
      "[1] Standard Errors assume that the covariance matrix of the errors is correctly specified.\n"
     ]
    }
   ],
   "source": [
    "# Fit the model\n",
    "import statsmodels.api as sm\n",
    "from statsmodels.formula.api import ols\n",
    "\n",
    "# Fit the model Y ~ X \n",
    "model_y = ols('Y ~ X', data=data).fit()\n",
    "print(model_y.summary())"
   ]
  },
  {
   "cell_type": "markdown",
   "metadata": {},
   "source": [
    "El coeficiente de $X$ coincide con el valor que esperábamos para el efecto total de $X$ sobre $Y$."
   ]
  },
  {
   "cell_type": "markdown",
   "metadata": {},
   "source": [
    "## Efecto directo de $X$ sobre $Y$\n",
    "\n",
    "A la vista del gráfico y por backdoor criterion, tenemos que condicionar por / ajustar / controlar por $Z$ porque cerrariamos el camino $X \\rightarrow Z \\rightarrow Y$ y así eliminamos el efecto indirecto de $X$ sobre $Y$ a través de $Z$. Por lo tanto, la estimación del efecto directo de $X$ sobre $Y$ es:\n",
    "\n",
    "$$\n",
    "Y \\sim X + Z\n",
    "$$"
   ]
  },
  {
   "cell_type": "code",
   "execution_count": 23,
   "metadata": {},
   "outputs": [
    {
     "name": "stdout",
     "output_type": "stream",
     "text": [
      "                            OLS Regression Results                            \n",
      "==============================================================================\n",
      "Dep. Variable:                      Y   R-squared:                       1.000\n",
      "Model:                            OLS   Adj. R-squared:                  1.000\n",
      "Method:                 Least Squares   F-statistic:                 2.401e+07\n",
      "Date:                Wed, 19 Mar 2025   Prob (F-statistic):               0.00\n",
      "Time:                        12:39:09   Log-Likelihood:                -14095.\n",
      "No. Observations:               10000   AIC:                         2.820e+04\n",
      "Df Residuals:                    9997   BIC:                         2.822e+04\n",
      "Df Model:                           2                                         \n",
      "Covariance Type:            nonrobust                                         \n",
      "==============================================================================\n",
      "                 coef    std err          t      P>|t|      [0.025      0.975]\n",
      "------------------------------------------------------------------------------\n",
      "Intercept      5.0676      0.031    162.532      0.000       5.006       5.129\n",
      "X             11.8392      0.070    169.352      0.000      11.702      11.976\n",
      "Z              8.0268      0.010    810.879      0.000       8.007       8.046\n",
      "==============================================================================\n",
      "Omnibus:                        3.316   Durbin-Watson:                   1.995\n",
      "Prob(Omnibus):                  0.191   Jarque-Bera (JB):                3.159\n",
      "Skew:                           0.007   Prob(JB):                        0.206\n",
      "Kurtosis:                       2.914   Cond. No.                         59.9\n",
      "==============================================================================\n",
      "\n",
      "Notes:\n",
      "[1] Standard Errors assume that the covariance matrix of the errors is correctly specified.\n"
     ]
    }
   ],
   "source": [
    "# Fit the model Y ~ X + Z\n",
    "model_yz = ols('Y ~ X + Z', data=data).fit()\n",
    "print(model_yz.summary())"
   ]
  },
  {
   "cell_type": "markdown",
   "metadata": {},
   "source": [
    "El coeficiente de $X$ coincide con el valor que esperábamos para el efecto directo de $X$ sobre $Y$."
   ]
  },
  {
   "cell_type": "markdown",
   "metadata": {},
   "source": [
    "## Efectos total y directo de $Z$ sobre $Y$\n",
    "\n",
    "A la vista del gráfico y por backdoor criterion, tenemos que condicionar por / ajustar / controlar por $X$ para cerrar el camino $Z \\leftarrow X \\rightarrow Y$ y así eliminar la relación espuria entre $Z$ e $Y$ a través de $X$. Por lo tanto, la estimación del efecto total y directo de $Z$ sobre $Y$ es:\n",
    "\n",
    "$$\n",
    "Y \\sim Z + X\n",
    "$$\n",
    "\n",
    "es decir, el mismo modelo que el anterior.\n",
    "\n",
    "Y vemos que, en ese modelo, el coeficiente de $Z$ coincide con el valor que esperábamos para el efecto total y directo de $Z$ sobre $Y$."
   ]
  },
  {
   "cell_type": "markdown",
   "metadata": {},
   "source": [
    "# Conclusión: ***backdoor criterion*** y amigos\n",
    "\n",
    "Para cerrar todos los caminos no causales entre una variable de tratamiento y la variable de resultado, tenemos que:\n",
    "+ Identificar todos los caminos entrantes en $Y$ y que conectan (tanto causal como espuriamente) con $X$.\n",
    "+ Cerrar cada uno de ellos condicionando / ajustando / controlando las variables necesarias para **cerrar las *chains* y los *forks*** que encontremos. \n",
    "+ Y hacerlo con cuidado de **no abrir en el proceso ningún *collider***. \n",
    "\n",
    "No siempre es posible. A veces se pueden aplicar otros algoritmos:\n",
    "\n",
    "+ ***Frontdoor criterion***\n",
    "+ ***Instrumental variables***\n",
    "\n",
    "O la generalización de ellos (***do-Calculus***).\n",
    "\n",
    "Estos algoritmos son independientes del mecanismo de generación de los datos. Por lo tanto, no importa si los datos son lineales o no. Lo que importa es la estructura causal de los datos.\n",
    "\n",
    "# Para pensar\n",
    "\n",
    "En este ejemplo:\n",
    "\n",
    "+ Hemos podido usar regresiones lineales para estimar los efectos. Pero, **¿qué pasa si los datos no son lineales?** \n",
    "+ Además conocíamos todas las variables implicadas y su relación causal. Pero, **¿qué pasa si no las conocemos todas o ignoramos las relaciones entre ellas?**\n",
    "+ Como los hemos \"inventado nosotros\" conociamos tanto la estructura causal como el mecanismo de generación de los datos. Pero en condiciones reales no conocemos ni la una ni el otro. Por eso es necesario contar con:\n",
    "    + **Conocimiento experto**.\n",
    "    + Datos procedentes de **experimentos**.\n",
    "    + Algoritmos de ***causal discovery*** (descubrimiento causal)."
   ]
  },
  {
   "cell_type": "markdown",
   "metadata": {},
   "source": [
    "# Bonus - ¿Qué podrían ser $X$, $Y$ y $Z$?"
   ]
  },
  {
   "cell_type": "code",
   "execution_count": 30,
   "metadata": {},
   "outputs": [
    {
     "data": {
      "image/png": "[encoded data removed]",
      "text/plain": [
       "<Figure size 800x600 with 1 Axes>"
      ]
     },
     "metadata": {},
     "output_type": "display_data"
    }
   ],
   "source": [
    "import networkx as nx\n",
    "\n",
    "import matplotlib.pyplot as plt\n",
    "\n",
    "# Crear un nuevo grafo\n",
    "G = nx.DiGraph()\n",
    "\n",
    "# Añadir nodos\n",
    "G.add_node('TV')\n",
    "G.add_node('Ventas')\n",
    "G.add_node('Impresiones')\n",
    "\n",
    "# Añadir aristas (edges) con pesos\n",
    "G.add_edge('TV', 'Ventas')\n",
    "G.add_edge('TV', 'Impresiones')\n",
    "G.add_edge('Impresiones', 'Ventas')\n",
    "\n",
    "# Añadir etiquetas a los nodos\n",
    "labels = {\n",
    "    'TV': r'$TV$',\n",
    "    'Ventas': r'$Ventas$',\n",
    "    'Impresiones': r'$Impresiones$'\n",
    "}\n",
    "\n",
    "# Crear una figura y un eje\n",
    "fig, ax = plt.subplots(figsize=(8, 6))\n",
    "# Dibujar el grafo\n",
    "pos = {\n",
    "    \"TV\": (0, 0),\n",
    "    \"Impresiones\": (1, 1),\n",
    "    \"Ventas\": (2, 0)\n",
    "}\n",
    "\n",
    "# positions for all nodes\n",
    "nx.draw_networkx_nodes(G, pos,\n",
    "    node_color='lightblue',\n",
    "    node_size=2000,\n",
    "    edgecolors='black'\n",
    ")\n",
    "\n",
    "nx.draw_networkx_edges(G, pos,\n",
    "    arrows=True,\n",
    "    arrowstyle='-|>',\n",
    "    arrowsize=25,\n",
    "    width=2,\n",
    "    edge_color='gray',\n",
    "    min_source_margin=30,     \n",
    "    min_target_margin=30\n",
    "    )\n",
    "\n",
    "nx.draw_networkx_labels(G, pos, labels, font_size=20)\n",
    "\n",
    "# Mostrar el grafo\n",
    "plt.title('Directed Graph Representation of the Model')\n",
    "plt.axis('off')  # Turn off the axis\n",
    "plt.show()"
   ]
  }
 ],
 "metadata": {
  "kernelspec": {
   "display_name": ".venv",
   "language": "python",
   "name": "python3"
  },
  "language_info": {
   "codemirror_mode": {
    "name": "ipython",
    "version": 3
   },
   "file_extension": ".py",
   "mimetype": "text/x-python",
   "name": "python",
   "nbconvert_exporter": "python",
   "pygments_lexer": "ipython3",
   "version": "3.12.7"
  }
 },
 "nbformat": 4,
 "nbformat_minor": 2
}
